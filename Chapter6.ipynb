{
 "cells": [
  {
   "attachments": {},
   "cell_type": "markdown",
   "metadata": {},
   "source": [
    "# CHAPTER6 トランジションとアニメーション"
   ]
  },
  {
   "attachments": {},
   "cell_type": "markdown",
   "metadata": {},
   "source": [
    "## 6.28 トランジションとは\n",
    "\n",
    "表示をふわっとさせたり、非表示にした要素を徐々にフェードアウトさせたりするUIエフェクトのこと。\n",
    "\n",
    "通常のJS/CSSでは、DOMを操作し、CSSアニメーションで色々ゴニョゴニョしないとこのような高度なエフェクトは実現できない。\n",
    "Vue.jsでは、このようなトランジションが標準でサポートされており、簡単に実装できる。\n",
    "\n",
    "Vue.jsでは、トランジションのクラスとして、大きく2つの種類がある。\n",
    "* Enter : 要素が表示される時のケース\n",
    "  * `.v-enter` : 要素が表示される直前の状態\n",
    "  * `.v-enter-active` : 表示直前 → 表示中 → 表示後の全状態\n",
    "  * `.v-enter-to` : 表示後の状態\n",
    "* Leave : 要素が非表示になる時のケース\n",
    "  * `.v-leave` : 要素が非表示になる直前の状態\n",
    "  * `.v-leave-active` : 非表示直前 → 非表示中 → 非表示後の全状態\n",
    "  * `.v-leave-to` : 非表示後の状態\n",
    "\n",
    "### 基本的なトランジションの使い方\n",
    "* `<transition>`タグでエフェクトをかけたい要素を囲む\n",
    "\n",
    "```html\n",
    "<transition>\n",
    "  <p v-if=\"show\">hello</p>\n",
    "</transition>\n",
    "```\n",
    "* cssでエフェクトの効果を定義する\n",
    "  * `<transition>`がDOMに表示タイミングで、`v-enter`クラスが自動的に追加される\n",
    "  * `<transition>`がDOMから非表示されるタイミングで、`v-leave`クラスが自動的に追加される\n",
    "  * つまり、このクラスを使ってCSSでエフェクトを定義することができる\n",
    "```css  \n",
    "/**透明度を1秒間で変化させる */\n",
    ".v-enter-active .v-leave-active{\n",
    "  transition: opacity 1s;\n",
    "}\n",
    "/**非表示になる時の透明度を定義 */\n",
    ".v-enter .v-leave-to{\n",
    "  opacity: 0;\n",
    "}\n",
    "```\n",
    "後は、Vue.jsがターゲット要素の表示・非表示変化時に自動的にトランジションを適用する。\n",
    "\n",
    "### 初期描画時のトランジション\n",
    "\n",
    "デフォルトでは、初期描画時にはトランジションが適用されない。あくまでDOMの表示・非表示の変化時に適用される。\n",
    "\n",
    "`appear`属性を付与することで、初期描画時にもトランジションを適用することができる。\n",
    "\n",
    "```html\n",
    "<transition appear>\n",
    "  <p v-if=\"show\">hello</p>\n",
    "</transition>\n",
    "```"
   ]
  },
  {
   "attachments": {},
   "cell_type": "markdown",
   "metadata": {},
   "source": [
    "## 6.29 単一要素トランジション\n",
    "\n"
   ]
  }
 ],
 "metadata": {
  "kernelspec": {
   "display_name": "Python 3",
   "language": "python",
   "name": "python3"
  },
  "language_info": {
   "name": "python",
   "version": "3.9.1"
  },
  "orig_nbformat": 4,
  "vscode": {
   "interpreter": {
    "hash": "aee8b7b246df8f9039afb4144a1f6fd8d2ca17a180786b69acc140d282b71a49"
   }
  }
 },
 "nbformat": 4,
 "nbformat_minor": 2
}
