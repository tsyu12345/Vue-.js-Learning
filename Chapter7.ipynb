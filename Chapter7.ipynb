{
 "cells": [
  {
   "attachments": {},
   "cell_type": "markdown",
   "metadata": {},
   "source": [
    "# CHAPTER7 より大規模なアプリケーション開発"
   ]
  },
  {
   "attachments": {},
   "cell_type": "markdown",
   "metadata": {},
   "source": [
    "アプリケーション開発では、コンポ間のデータやりとりと、アプリ全体の状態を一元に管理し、状態に応じた動作が出てくる。\n",
    "* これを`ルーティング`と呼ぶ\n",
    "\n",
    "Vue.jsには、`Vuex`という状態管理ライブラリと、`Vue Router`というルーティング管理ライブラリがある。\n",
    "\n",
    "この章では、これらのライブラリを使って、より大規模なアプリケーションを作成する方法を学ぶ。"
   ]
  },
  {
   "attachments": {},
   "cell_type": "markdown",
   "metadata": {},
   "source": [
    "## 7.34 VueCLIの導入\n",
    "\n",
    "Vue.jsをNode開発環境むけにコマンドラインインターフェースを提供するもの"
   ]
  },
  {
   "attachments": {},
   "cell_type": "markdown",
   "metadata": {},
   "source": [
    "## 7.35 単一ファイルコンポーネント\n",
    "\n",
    "`SingleFileComponent`の頭文字をとって`SFC`と呼ぶことが多い\n",
    "コンポーネント単位ごとに、\n",
    "複数のHTMLとCSSとJavaScriptを1つのファイル、`.vueファイル`にまとめたもの.\n",
    "\n",
    "* 例\n",
    "```vue\n",
    "<template>\n",
    "<!--コンポーネントのHTMLのエリア-->\n",
    "  <div>\n",
    "    <h1>{{ title }}</h1>\n",
    "    <p>{{ message }}</p>\n",
    "  </div>\n",
    "</template>\n",
    "\n",
    "<script>\n",
    "//コンポーネントのスクリプトのエリア\n",
    "export default {\n",
    "  data() {\n",
    "    return {\n",
    "      title: 'Hello Vue.js',\n",
    "      message: 'This is sample message.'\n",
    "    }\n",
    "  }\n",
    "}\n",
    "</script>\n",
    "\n",
    "<style>\n",
    "//コンポーネントのCSSのエリア\n",
    "h1 {\n",
    "  color: red;\n",
    "}\n",
    "</style>\n",
    "```\n",
    "\n",
    "#### スコープ付きCSS\n",
    "\n",
    "SFCの.vueファイルにおけるCSS`<style>`は、`scoped`オプションを付与することで、定義したコンポーネント内部のみに適用されるスコープ範囲を持つ。\n",
    "\n",
    "* クラススタイルを定義する際に、他のコンポーネントとの名前衝突を考える必要がなくなり、安全。\n",
    "\n",
    "### 外部ファイルの読み込み\n",
    "\n",
    "スクリプトなら、`<script src=\"sample.js\"></script>`,\n",
    "CSSなら、`<style src=\"sample.css\">`で読み込むことができる。\n",
    "templateは、`<template src=\"sample.html\">`で読み込むことができる。\n",
    "* HTMLとは違い、`src`属性であることに注意\n",
    "\n",
    "### 他のマークアップ言語とスタイルシートを使える\n",
    "\n",
    "SassやPugも使える。\n",
    "```vue\n",
    "<template lang=\"pug\">\n",
    "  div\n",
    "    h1 {{ title }}\n",
    "    p {{ message }}\n",
    "</template>\n",
    "```\n",
    "\n",
    "### コーディング規約\n",
    "\n",
    "命名規則は以下の通りとする\n",
    "|　項目 | 例 |\n",
    "|:--|:--|\n",
    "| ファイル名 | HelloWorld.vue |\n",
    "| カスタムタグ名 | `<MyComponent/>` |\n",
    "| コンポーネント名 | 以下のように記述する｜\n",
    "```js\n",
    "export default {\n",
    "  name: 'MyComponent'\n",
    "}\n",
    "```\n",
    "\n"
   ]
  },
  {
   "attachments": {},
   "cell_type": "markdown",
   "metadata": {},
   "source": [
    "## 7.38 VueCLIの導入\n",
    "\n",
    "導入そのものはnpm経由でインストできる。\n",
    "\n",
    "インストール後、使用したい開発環境に応じてテンプレートがすでに用意されているので、コマンド一発で環境構築可能\n",
    "* webpack\n",
    "* webpack-simple\n",
    "* browserify\n",
    "などなど\n",
    "\n",
    "#### フォルダ構造\n"
   ]
  }
 ],
 "metadata": {
  "kernelspec": {
   "display_name": "Python 3",
   "language": "python",
   "name": "python3"
  },
  "language_info": {
   "name": "python",
   "version": "3.9.1"
  },
  "orig_nbformat": 4,
  "vscode": {
   "interpreter": {
    "hash": "aee8b7b246df8f9039afb4144a1f6fd8d2ca17a180786b69acc140d282b71a49"
   }
  }
 },
 "nbformat": 4,
 "nbformat_minor": 2
}
